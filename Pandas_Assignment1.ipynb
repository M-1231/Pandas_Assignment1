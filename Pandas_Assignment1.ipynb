{
 "cells": [
  {
   "cell_type": "code",
   "execution_count": 2,
   "id": "7bbc600d",
   "metadata": {},
   "outputs": [],
   "source": [
    "import pandas as pd\n"
   ]
  },
  {
   "cell_type": "code",
   "execution_count": 53,
   "id": "2a3bc9f6",
   "metadata": {},
   "outputs": [
    {
     "name": "stdout",
     "output_type": "stream",
     "text": [
      "Collecting package metadata (current_repodata.json): ...working... done\n",
      "Solving environment: ...working... done\n",
      "\n",
      "# All requested packages already installed.\n",
      "\n",
      "\n",
      "Note: you may need to restart the kernel to use updated packages.\n"
     ]
    }
   ],
   "source": [
    "conda install pandas"
   ]
  },
  {
   "cell_type": "code",
   "execution_count": null,
   "id": "2a5aa173",
   "metadata": {},
   "outputs": [],
   "source": [
    "# Q.1 "
   ]
  },
  {
   "cell_type": "code",
   "execution_count": 5,
   "id": "a463a72c",
   "metadata": {},
   "outputs": [],
   "source": [
    "series=pd.Series([4,8,15,16,23,42]) #creating a pandas series\n"
   ]
  },
  {
   "cell_type": "code",
   "execution_count": 6,
   "id": "6859236b",
   "metadata": {},
   "outputs": [
    {
     "data": {
      "text/plain": [
       "0     4\n",
       "1     8\n",
       "2    15\n",
       "3    16\n",
       "4    23\n",
       "5    42\n",
       "dtype: int64"
      ]
     },
     "execution_count": 6,
     "metadata": {},
     "output_type": "execute_result"
    }
   ],
   "source": [
    "series   #printing the series\n"
   ]
  },
  {
   "cell_type": "code",
   "execution_count": 7,
   "id": "dfc1ede3",
   "metadata": {},
   "outputs": [],
   "source": [
    "# Q.2"
   ]
  },
  {
   "cell_type": "code",
   "execution_count": 8,
   "id": "2676555a",
   "metadata": {},
   "outputs": [],
   "source": [
    "var=[1,2,3,4,5,6,7,8,9,10]  #creating a list named var"
   ]
  },
  {
   "cell_type": "code",
   "execution_count": 9,
   "id": "8ef14d31",
   "metadata": {},
   "outputs": [
    {
     "data": {
      "text/plain": [
       "0     1\n",
       "1     2\n",
       "2     3\n",
       "3     4\n",
       "4     5\n",
       "5     6\n",
       "6     7\n",
       "7     8\n",
       "8     9\n",
       "9    10\n",
       "dtype: int64"
      ]
     },
     "execution_count": 9,
     "metadata": {},
     "output_type": "execute_result"
    }
   ],
   "source": [
    "pd.Series(var)              #printing var as series\n"
   ]
  },
  {
   "cell_type": "code",
   "execution_count": 10,
   "id": "fd9e8515",
   "metadata": {},
   "outputs": [],
   "source": [
    "# Q.3 creating a dataframe named data"
   ]
  },
  {
   "cell_type": "code",
   "execution_count": 43,
   "id": "b188a814",
   "metadata": {},
   "outputs": [],
   "source": [
    "data={\"Name\":[\"Alice\",\"Bob\",\"Claire\"],\"Age\":[25,30,27],\"Gender\":[\"Female\",\"Male\",\"Female\"]}"
   ]
  },
  {
   "cell_type": "code",
   "execution_count": 44,
   "id": "e195c7e7",
   "metadata": {},
   "outputs": [
    {
     "data": {
      "text/html": [
       "<div>\n",
       "<style scoped>\n",
       "    .dataframe tbody tr th:only-of-type {\n",
       "        vertical-align: middle;\n",
       "    }\n",
       "\n",
       "    .dataframe tbody tr th {\n",
       "        vertical-align: top;\n",
       "    }\n",
       "\n",
       "    .dataframe thead th {\n",
       "        text-align: right;\n",
       "    }\n",
       "</style>\n",
       "<table border=\"1\" class=\"dataframe\">\n",
       "  <thead>\n",
       "    <tr style=\"text-align: right;\">\n",
       "      <th></th>\n",
       "      <th>Name</th>\n",
       "      <th>Age</th>\n",
       "      <th>Gender</th>\n",
       "    </tr>\n",
       "  </thead>\n",
       "  <tbody>\n",
       "    <tr>\n",
       "      <th>0</th>\n",
       "      <td>Alice</td>\n",
       "      <td>25</td>\n",
       "      <td>Female</td>\n",
       "    </tr>\n",
       "    <tr>\n",
       "      <th>1</th>\n",
       "      <td>Bob</td>\n",
       "      <td>30</td>\n",
       "      <td>Male</td>\n",
       "    </tr>\n",
       "    <tr>\n",
       "      <th>2</th>\n",
       "      <td>Claire</td>\n",
       "      <td>27</td>\n",
       "      <td>Female</td>\n",
       "    </tr>\n",
       "  </tbody>\n",
       "</table>\n",
       "</div>"
      ],
      "text/plain": [
       "     Name  Age  Gender\n",
       "0   Alice   25  Female\n",
       "1     Bob   30    Male\n",
       "2  Claire   27  Female"
      ]
     },
     "execution_count": 44,
     "metadata": {},
     "output_type": "execute_result"
    }
   ],
   "source": [
    "pd.DataFrame(data) #printing dataframe"
   ]
  },
  {
   "cell_type": "code",
   "execution_count": null,
   "id": "444740e5",
   "metadata": {},
   "outputs": [],
   "source": [
    "\"\"\"Q.4 A data frame in pandas is a two-dimensional data structure that can   store data of different types (such as integer, string, float, etc.) in rows and columns. A data frame has a tabular format with labeled axes (rows and columns). A data frame can be created from various sources, such as lists, dictionaries, arrays, or files. A data frame is similar to a spreadsheet or a SQL table.\n",
    "\n",
    "A pandas series is a one-dimensional data structure that can store data of any type (such as integer, string, float, etc.). A series has an index that labels each element in the series. A series can be created from various sources, such as lists, dictionaries, arrays, or scalars. A series is similar to a single column in a data frame or a one-dimensional array.\n",
    "\n",
    "The main difference between a data frame and a series is that a data frame is a two-dimensional structure with multiple columns, while a series is a one-dimensional structure with a single column. A data frame can be seen as a collection of series that share the same index. A series can be extracted from a data frame by selecting a column or a row."
   ]
  },
  {
   "cell_type": "code",
   "execution_count": 48,
   "id": "921cb603",
   "metadata": {},
   "outputs": [],
   "source": [
    "# This is an example of series\n",
    "names=[\"mahi\",\"sam\",\"john\",\"aadi\",\"dishu\"]"
   ]
  },
  {
   "cell_type": "code",
   "execution_count": 133,
   "id": "1db0cb0e",
   "metadata": {},
   "outputs": [],
   "source": [
    "s=pd.Series(names)"
   ]
  },
  {
   "cell_type": "code",
   "execution_count": 134,
   "id": "816f7388",
   "metadata": {},
   "outputs": [
    {
     "data": {
      "text/plain": [
       "0     mahi\n",
       "1      sam\n",
       "2     john\n",
       "3     aadi\n",
       "4    dishu\n",
       "dtype: object"
      ]
     },
     "execution_count": 134,
     "metadata": {},
     "output_type": "execute_result"
    }
   ],
   "source": [
    "s"
   ]
  },
  {
   "cell_type": "code",
   "execution_count": 135,
   "id": "d483c32a",
   "metadata": {},
   "outputs": [
    {
     "data": {
      "text/plain": [
       "pandas.core.series.Series"
      ]
     },
     "execution_count": 135,
     "metadata": {},
     "output_type": "execute_result"
    }
   ],
   "source": [
    "type(s)"
   ]
  },
  {
   "cell_type": "code",
   "execution_count": null,
   "id": "f68864f8",
   "metadata": {},
   "outputs": [],
   "source": [
    "# This is an example of dataframe"
   ]
  },
  {
   "cell_type": "code",
   "execution_count": 136,
   "id": "a8f4b4b9",
   "metadata": {},
   "outputs": [],
   "source": [
    "data_1={'name':names}"
   ]
  },
  {
   "cell_type": "code",
   "execution_count": 137,
   "id": "0e6f79da",
   "metadata": {},
   "outputs": [],
   "source": [
    "d=pd.DataFrame(data_1)"
   ]
  },
  {
   "cell_type": "code",
   "execution_count": 138,
   "id": "349dff25",
   "metadata": {},
   "outputs": [
    {
     "data": {
      "text/html": [
       "<div>\n",
       "<style scoped>\n",
       "    .dataframe tbody tr th:only-of-type {\n",
       "        vertical-align: middle;\n",
       "    }\n",
       "\n",
       "    .dataframe tbody tr th {\n",
       "        vertical-align: top;\n",
       "    }\n",
       "\n",
       "    .dataframe thead th {\n",
       "        text-align: right;\n",
       "    }\n",
       "</style>\n",
       "<table border=\"1\" class=\"dataframe\">\n",
       "  <thead>\n",
       "    <tr style=\"text-align: right;\">\n",
       "      <th></th>\n",
       "      <th>name</th>\n",
       "    </tr>\n",
       "  </thead>\n",
       "  <tbody>\n",
       "    <tr>\n",
       "      <th>0</th>\n",
       "      <td>mahi</td>\n",
       "    </tr>\n",
       "    <tr>\n",
       "      <th>1</th>\n",
       "      <td>sam</td>\n",
       "    </tr>\n",
       "    <tr>\n",
       "      <th>2</th>\n",
       "      <td>john</td>\n",
       "    </tr>\n",
       "    <tr>\n",
       "      <th>3</th>\n",
       "      <td>aadi</td>\n",
       "    </tr>\n",
       "    <tr>\n",
       "      <th>4</th>\n",
       "      <td>dishu</td>\n",
       "    </tr>\n",
       "  </tbody>\n",
       "</table>\n",
       "</div>"
      ],
      "text/plain": [
       "    name\n",
       "0   mahi\n",
       "1    sam\n",
       "2   john\n",
       "3   aadi\n",
       "4  dishu"
      ]
     },
     "execution_count": 138,
     "metadata": {},
     "output_type": "execute_result"
    }
   ],
   "source": [
    "d"
   ]
  },
  {
   "cell_type": "code",
   "execution_count": 131,
   "id": "ef4666ba",
   "metadata": {},
   "outputs": [
    {
     "data": {
      "text/plain": [
       "pandas.core.frame.DataFrame"
      ]
     },
     "execution_count": 131,
     "metadata": {},
     "output_type": "execute_result"
    }
   ],
   "source": [
    "type(d)"
   ]
  },
  {
   "cell_type": "code",
   "execution_count": null,
   "id": "420c1c05",
   "metadata": {},
   "outputs": [],
   "source": [
    "\"\"\" Q.5 Some common functions we can use to manipulate data in a pandas data frame are:\n",
    "\n",
    "1. df.sort_values (by, ascending, inplace): This function sorts the data frame by one or more columns in ascending or descending order.\n",
    "\n",
    "2. df.drop (labels, axis, inplace): This function drops the specified rows or columns from the data frame.\n",
    "\n",
    "3. df.groupby (by): This function groups the data frame by one or more columns and returns a groupby object that can be used for further operations.\n",
    "\n",
    "4. df.rename (columns, index, inplace): This function renames the columns or index labels of the data frame.\n",
    "\n",
    "5. df.merge (right, how, on): This function merges two data frames based on a common column or index.\n",
    "\n",
    "There are more examples of the functions that pandas provides for manipulating data frames.\n"
   ]
  },
  {
   "cell_type": "code",
   "execution_count": 55,
   "id": "331d7dd5",
   "metadata": {},
   "outputs": [],
   "source": [
    "data={\"Name\":[\"Alice\",\"Bob\",\"Claire\"],\"Age\":[25,30,27],\"Gender\":[\"Female\",\"Male\",\"Female\"]}"
   ]
  },
  {
   "cell_type": "code",
   "execution_count": 57,
   "id": "65c96040",
   "metadata": {},
   "outputs": [],
   "source": [
    "df=pd.DataFrame(data)"
   ]
  },
  {
   "cell_type": "code",
   "execution_count": 58,
   "id": "44d6cb4c",
   "metadata": {
    "scrolled": true
   },
   "outputs": [
    {
     "data": {
      "text/html": [
       "<div>\n",
       "<style scoped>\n",
       "    .dataframe tbody tr th:only-of-type {\n",
       "        vertical-align: middle;\n",
       "    }\n",
       "\n",
       "    .dataframe tbody tr th {\n",
       "        vertical-align: top;\n",
       "    }\n",
       "\n",
       "    .dataframe thead th {\n",
       "        text-align: right;\n",
       "    }\n",
       "</style>\n",
       "<table border=\"1\" class=\"dataframe\">\n",
       "  <thead>\n",
       "    <tr style=\"text-align: right;\">\n",
       "      <th></th>\n",
       "      <th>Name</th>\n",
       "      <th>Gender</th>\n",
       "    </tr>\n",
       "    <tr>\n",
       "      <th>Age</th>\n",
       "      <th></th>\n",
       "      <th></th>\n",
       "    </tr>\n",
       "  </thead>\n",
       "  <tbody>\n",
       "    <tr>\n",
       "      <th>25</th>\n",
       "      <td>Alice</td>\n",
       "      <td>Female</td>\n",
       "    </tr>\n",
       "    <tr>\n",
       "      <th>30</th>\n",
       "      <td>Bob</td>\n",
       "      <td>Male</td>\n",
       "    </tr>\n",
       "    <tr>\n",
       "      <th>27</th>\n",
       "      <td>Claire</td>\n",
       "      <td>Female</td>\n",
       "    </tr>\n",
       "  </tbody>\n",
       "</table>\n",
       "</div>"
      ],
      "text/plain": [
       "       Name  Gender\n",
       "Age                \n",
       "25    Alice  Female\n",
       "30      Bob    Male\n",
       "27   Claire  Female"
      ]
     },
     "execution_count": 58,
     "metadata": {},
     "output_type": "execute_result"
    }
   ],
   "source": [
    "df.set_index(\"Age\") #set_index() is used to set index."
   ]
  },
  {
   "cell_type": "code",
   "execution_count": null,
   "id": "b5d0721d",
   "metadata": {},
   "outputs": [],
   "source": [
    "\"\"\" Q.6 Series is a one-dimensional array like structure with homogeneous    data. Series is value mutable but not size mutable.\n",
    " \n",
    "     DataFrame is a two-dimensional array with heterogeneous data. DataFrame is value mutable as well as size mutable.\n",
    "      \n",
    "     Panel is a three-dimensional data structure with heterogeneous data. \n",
    "Panel is value mutable as well as size mutable.    "
   ]
  },
  {
   "cell_type": "code",
   "execution_count": 113,
   "id": "3b375b51",
   "metadata": {},
   "outputs": [],
   "source": [
    "# Q.7 "
   ]
  },
  {
   "cell_type": "code",
   "execution_count": 120,
   "id": "831aa3a3",
   "metadata": {},
   "outputs": [],
   "source": [
    "s1=pd.Series([1,2,3,4,5])  #creating multiple series\n",
    "s2=pd.Series([6,7,8,9,10])\n",
    "s3=pd.Series([1,6,9,2,5])\n",
    "s4=pd.Series([7,9,3,4,2])"
   ]
  },
  {
   "cell_type": "code",
   "execution_count": 124,
   "id": "7175f999",
   "metadata": {},
   "outputs": [],
   "source": [
    "df={\"key1\":s1,\"key2\":s2,\"key3\":s3,\"key4\":s4}  # creating dataframe with multiple series \n"
   ]
  },
  {
   "cell_type": "code",
   "execution_count": 125,
   "id": "b04216f7",
   "metadata": {},
   "outputs": [
    {
     "data": {
      "text/html": [
       "<div>\n",
       "<style scoped>\n",
       "    .dataframe tbody tr th:only-of-type {\n",
       "        vertical-align: middle;\n",
       "    }\n",
       "\n",
       "    .dataframe tbody tr th {\n",
       "        vertical-align: top;\n",
       "    }\n",
       "\n",
       "    .dataframe thead th {\n",
       "        text-align: right;\n",
       "    }\n",
       "</style>\n",
       "<table border=\"1\" class=\"dataframe\">\n",
       "  <thead>\n",
       "    <tr style=\"text-align: right;\">\n",
       "      <th></th>\n",
       "      <th>key1</th>\n",
       "      <th>key2</th>\n",
       "      <th>key3</th>\n",
       "      <th>key4</th>\n",
       "    </tr>\n",
       "  </thead>\n",
       "  <tbody>\n",
       "    <tr>\n",
       "      <th>0</th>\n",
       "      <td>1</td>\n",
       "      <td>6</td>\n",
       "      <td>1</td>\n",
       "      <td>7</td>\n",
       "    </tr>\n",
       "    <tr>\n",
       "      <th>1</th>\n",
       "      <td>2</td>\n",
       "      <td>7</td>\n",
       "      <td>6</td>\n",
       "      <td>9</td>\n",
       "    </tr>\n",
       "    <tr>\n",
       "      <th>2</th>\n",
       "      <td>3</td>\n",
       "      <td>8</td>\n",
       "      <td>9</td>\n",
       "      <td>3</td>\n",
       "    </tr>\n",
       "    <tr>\n",
       "      <th>3</th>\n",
       "      <td>4</td>\n",
       "      <td>9</td>\n",
       "      <td>2</td>\n",
       "      <td>4</td>\n",
       "    </tr>\n",
       "    <tr>\n",
       "      <th>4</th>\n",
       "      <td>5</td>\n",
       "      <td>10</td>\n",
       "      <td>5</td>\n",
       "      <td>2</td>\n",
       "    </tr>\n",
       "  </tbody>\n",
       "</table>\n",
       "</div>"
      ],
      "text/plain": [
       "   key1  key2  key3  key4\n",
       "0     1     6     1     7\n",
       "1     2     7     6     9\n",
       "2     3     8     9     3\n",
       "3     4     9     2     4\n",
       "4     5    10     5     2"
      ]
     },
     "execution_count": 125,
     "metadata": {},
     "output_type": "execute_result"
    }
   ],
   "source": [
    "pd.DataFrame(df) # printing dataframe"
   ]
  },
  {
   "cell_type": "code",
   "execution_count": null,
   "id": "54a4164b",
   "metadata": {},
   "outputs": [],
   "source": []
  },
  {
   "cell_type": "code",
   "execution_count": null,
   "id": "76591beb",
   "metadata": {},
   "outputs": [],
   "source": []
  },
  {
   "cell_type": "raw",
   "id": "29beea65",
   "metadata": {},
   "source": []
  },
  {
   "cell_type": "code",
   "execution_count": 104,
   "id": "075be067",
   "metadata": {},
   "outputs": [],
   "source": []
  },
  {
   "cell_type": "code",
   "execution_count": null,
   "id": "e2d0ac4b",
   "metadata": {},
   "outputs": [],
   "source": []
  },
  {
   "cell_type": "code",
   "execution_count": null,
   "id": "f4c8d30c",
   "metadata": {},
   "outputs": [],
   "source": []
  },
  {
   "cell_type": "code",
   "execution_count": null,
   "id": "1f75a1a4",
   "metadata": {},
   "outputs": [],
   "source": []
  }
 ],
 "metadata": {
  "kernelspec": {
   "display_name": "Python 3 (ipykernel)",
   "language": "python",
   "name": "python3"
  },
  "language_info": {
   "codemirror_mode": {
    "name": "ipython",
    "version": 3
   },
   "file_extension": ".py",
   "mimetype": "text/x-python",
   "name": "python",
   "nbconvert_exporter": "python",
   "pygments_lexer": "ipython3",
   "version": "3.11.3"
  }
 },
 "nbformat": 4,
 "nbformat_minor": 5
}
